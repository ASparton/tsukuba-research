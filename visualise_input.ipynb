{
 "cells": [
  {
   "cell_type": "markdown",
   "metadata": {},
   "source": [
    "### This notebook is used to visualise the MNIST dataset with different preprocessing applied and through different methods to help optimizing the ML models"
   ]
  },
  {
   "cell_type": "code",
   "execution_count": null,
   "metadata": {},
   "outputs": [],
   "source": [
    "# import mnist and matplotlib to see the images\n",
    "\n",
    "from tensorflow.keras.datasets.mnist import load_data as load_mnist\n",
    "import matplotlib.pyplot as plt"
   ]
  },
  {
   "cell_type": "code",
   "execution_count": null,
   "metadata": {},
   "outputs": [],
   "source": [
    "# load dataset\n",
    "(x_train, y_train), (x_test, y_test) = load_mnist()\n",
    "print(x_train.reshape(-1, 28, 28, 1).shape)\n",
    "print(y_train.shape)\n",
    "print(x_test.shape)\n",
    "print(y_test.shape)"
   ]
  },
  {
   "cell_type": "markdown",
   "metadata": {},
   "source": [
    "## Raw images\n",
    "### n first train images"
   ]
  },
  {
   "cell_type": "code",
   "execution_count": null,
   "metadata": {},
   "outputs": [],
   "source": [
    "nb_img_to_show = 3\n",
    "\n",
    "for i in range(0, nb_img_to_show):\n",
    "    plt.imshow(x_train[i])\n",
    "    plt.show()\n",
    "    print(f'Target: {y_train[i]}')"
   ]
  },
  {
   "cell_type": "markdown",
   "metadata": {},
   "source": [
    "### n first test images"
   ]
  },
  {
   "cell_type": "code",
   "execution_count": null,
   "metadata": {},
   "outputs": [],
   "source": [
    "nb_img_to_show = 3\n",
    "\n",
    "for i in range(0, nb_img_to_show):\n",
    "    plt.imshow(x_test[i])\n",
    "    plt.show()\n",
    "    print(f'Target: {y_test[i]}')"
   ]
  },
  {
   "cell_type": "markdown",
   "metadata": {},
   "source": [
    "## Noisy images"
   ]
  },
  {
   "cell_type": "code",
   "execution_count": null,
   "metadata": {},
   "outputs": [],
   "source": [
    "from skimage.util import random_noise\n",
    "from PIL import Image\n",
    "import numpy"
   ]
  },
  {
   "cell_type": "markdown",
   "metadata": {},
   "source": [
    "### n first train images"
   ]
  },
  {
   "cell_type": "code",
   "execution_count": null,
   "metadata": {},
   "outputs": [],
   "source": [
    "noisy_imgs = random_noise(x_train[:3], mode='gaussian', var=0.0025)\n",
    "print(noisy_imgs.shape)\n",
    "\n",
    "nb_img_to_show = 3\n",
    "\n",
    "for i in range(0, nb_img_to_show):\n",
    "    plt.imshow(noisy_imgs[i])\n",
    "    plt.show()\n",
    "    print(f'Target: {y_train[i]}')"
   ]
  },
  {
   "cell_type": "markdown",
   "metadata": {},
   "source": [
    "### n first test images"
   ]
  },
  {
   "cell_type": "code",
   "execution_count": null,
   "metadata": {},
   "outputs": [],
   "source": [
    "noisy_imgs = random_noise(x_test[:3], mode='gaussian', var=0.001)\n",
    "print(noisy_imgs.shape)\n",
    "\n",
    "nb_img_to_show = 3\n",
    "\n",
    "for i in range(0, nb_img_to_show):\n",
    "    plt.imshow(noisy_imgs[i])\n",
    "    plt.show()\n",
    "    print(f'Target: {y_test[i]}')"
   ]
  },
  {
   "cell_type": "markdown",
   "metadata": {},
   "source": [
    "## Rotated images\n",
    "\n",
    "### n first train rotated images"
   ]
  },
  {
   "cell_type": "code",
   "execution_count": null,
   "metadata": {},
   "outputs": [],
   "source": [
    "rotated_images = numpy.array([numpy.array(Image.fromarray(image).rotate(10)) for image in x_train[:3]])\n",
    "print(rotated_images.shape)\n",
    "\n",
    "nb_img_to_show = 3\n",
    "\n",
    "for i in range(0, nb_img_to_show):\n",
    "    plt.imshow(rotated_images[i])\n",
    "    plt.show()\n",
    "    print(f'Target: {y_test[i]}')"
   ]
  },
  {
   "cell_type": "markdown",
   "metadata": {},
   "source": [
    "# Traffic signs dataset\n",
    "\n",
    "### Belgium"
   ]
  },
  {
   "cell_type": "code",
   "execution_count": null,
   "metadata": {},
   "outputs": [],
   "source": [
    "import os\n",
    "import numpy as np\n",
    "from skimage.io import imread\n",
    "from skimage.transform import resize\n",
    "\n",
    "def get_traffic_signs_images():\n",
    "    x_train, y_train, x_test, y_test = [], [], [], []\n",
    "    \n",
    "    # Get train images\n",
    "    for folder in os.scandir(\"resources/belgium_traffic_signs/training\"):\n",
    "        if folder.is_dir():\n",
    "            for file in os.scandir(folder.path):\n",
    "                x_train.append(imread(file.path))\n",
    "                y_train.append(int(folder.name))\n",
    "    \n",
    "    # Get test images  \n",
    "    for folder in os.scandir(\"resources/belgium_traffic_signs/testing\"):\n",
    "        if folder.is_dir():\n",
    "            for file in os.scandir(folder.path):\n",
    "                x_test.append(imread(file.path))\n",
    "                y_test.append(int(folder.name))\n",
    "    \n",
    "    # Give all images same size (128, 128) \n",
    "    x_train = np.array([resize(img, (128, 128)) for img in x_train])\n",
    "    x_test = np.array([resize(img, (128, 128)) for img in x_test])\n",
    "                \n",
    "    return (x_train, np.array(y_train)), (x_test, np.array(y_test))"
   ]
  },
  {
   "cell_type": "code",
   "execution_count": null,
   "metadata": {},
   "outputs": [],
   "source": [
    "(x_train, y_train), (x_test, y_test) = get_traffic_signs_images()\n",
    "print(x_train.shape)\n",
    "\n",
    "plt.imshow(x_train[0])\n",
    "plt.show()"
   ]
  }
 ],
 "metadata": {
  "interpreter": {
   "hash": "2be5faf79681da6f2a61fdfdd5405d65d042280f7fba6178067603e3a2925119"
  },
  "kernelspec": {
   "display_name": "Python 3.10.2 64-bit",
   "language": "python",
   "name": "python3"
  },
  "language_info": {
   "codemirror_mode": {
    "name": "ipython",
    "version": 3
   },
   "file_extension": ".py",
   "mimetype": "text/x-python",
   "name": "python",
   "nbconvert_exporter": "python",
   "pygments_lexer": "ipython3",
   "version": "3.10.2"
  },
  "orig_nbformat": 4
 },
 "nbformat": 4,
 "nbformat_minor": 2
}
